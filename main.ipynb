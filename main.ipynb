{
 "cells": [
  {
   "cell_type": "code",
   "execution_count": null,
   "id": "7419cb9c",
   "metadata": {},
   "outputs": [],
   "source": [
    "import torch\n",
    "\n",
    "import torch.nn as nn\n",
    "import torch.optim as optim\n",
    "\n",
    "# Example dataset (replace with your own)\n",
    "X = torch.randn(100, 10)  # 100 samples, 10 features\n",
    "y = torch.randint(0, 2, (100,))  # Binary classification\n",
    "\n",
    "# Define a simple neural network\n",
    "class SimpleNet(nn.Module):\n",
    "    def __init__(self):\n",
    "        super(SimpleNet, self).__init__()\n",
    "        self.fc1 = nn.Linear(10, 32)\n",
    "        self.relu = nn.ReLU()\n",
    "        self.fc2 = nn.Linear(32, 2)\n",
    "\n",
    "    def forward(self, x):\n",
    "        x = self.fc1(x)\n",
    "        x = self.relu(x)\n",
    "        x = self.fc2(x)\n",
    "        return x\n",
    "\n",
    "model = SimpleNet()\n",
    "criterion = nn.CrossEntropyLoss()\n",
    "optimizer = optim.Adam(model.parameters(), lr=0.001)\n",
    "\n",
    "# Training loop\n",
    "epochs = 20\n",
    "for epoch in range(epochs):\n",
    "    optimizer.zero_grad()\n",
    "    outputs = model(X)\n",
    "    loss = criterion(outputs, y)\n",
    "    loss.backward()\n",
    "    optimizer.step()\n",
    "    if (epoch+1) % 5 == 0:\n",
    "        print(f'Epoch [{epoch+1}/{epochs}], Loss: {loss.item():.4f}')"
   ]
  },
  {
   "cell_type": "code",
   "execution_count": 20,
   "id": "a24e0fc1",
   "metadata": {},
   "outputs": [],
   "source": [
    "from hdfs import InsecureClient\n",
    "\n",
    "client = InsecureClient('http://localhost:9870', user='jessnou')\n",
    "print(client.list('/images'))\n",
    "input_dir = '/images/'\n",
    "output_dir = '/images/'"
   ]
  },
  {
   "cell_type": "code",
   "execution_count": 18,
   "id": "d92725a3",
   "metadata": {},
   "outputs": [],
   "source": [
    "import cv2\n",
    "import numpy as np"
   ]
  },
  {
   "cell_type": "code",
   "execution_count": 21,
   "id": "65bd40f6",
   "metadata": {},
   "outputs": [],
   "source": [
    "image_files = client.list(input_dir)\n",
    "\n",
    "\n",
    "for filename in image_files:\n",
    "    input_path = input_dir + filename\n",
    "    output_path = output_dir + filename\n",
    "\n",
    "\n",
    "    try:\n",
    "        with client.read(input_path) as reader:\n",
    "            img_bytes = reader.read()\n",
    "            img_array = np.frombuffer(img_bytes, np.uint8)\n",
    "            img = cv2.imdecode(img_array, cv2.IMREAD_COLOR)\n",
    "\n",
    "\n",
    "            if img is None:\n",
    "                print(f'Не удалось прочитать {filename}')\n",
    "                continue\n",
    "\n",
    "\n",
    "            gray = cv2.cvtColor(img, cv2.COLOR_BGR2GRAY)\n",
    "            success, encoded_img = cv2.imencode('.jpg', gray)\n",
    "            if not success:\n",
    "                print(f'Не удалось закодировать {filename}')\n",
    "                continue\n",
    "\n",
    "\n",
    "            with client.write(output_path, overwrite=True) as writer:\n",
    "                writer.write(encoded_img.tobytes())\n",
    "\n",
    "\n",
    "            print(f'Обработано и сохранено: {filename}')\n",
    "    except Exception as e:\n",
    "        print(f'Ошибка обработки {filename}: {e}')"
   ]
  },
  {
   "cell_type": "code",
   "execution_count": 7,
   "id": "6d2a6601",
   "metadata": {},
   "outputs": [],
   "source": [
    "import os\n",
    "os.environ[\"PYSPARK_PYTHON\"] = \"/usr/bin/python3.11\"  # Путь к нужному Python в воркере\n",
    "os.environ[\"PYSPARK_DRIVER_PYTHON\"] = \"/usr/bin/python3.11\"  # Путь к нужному Python в драйвере\n"
   ]
  }
 ],
 "metadata": {
  "kernelspec": {
   "display_name": "Python 3 (ipykernel)",
   "language": "python",
   "name": "python3"
  }
 },
 "nbformat": 4,
 "nbformat_minor": 5
}
